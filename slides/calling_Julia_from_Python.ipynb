{
 "cells": [
  {
   "cell_type": "code",
   "execution_count": null,
   "id": "0c989925-6371-4c63-a816-138910815eb3",
   "metadata": {},
   "outputs": [],
   "source": [
    "import awkward as ak\n",
    "import numpy as np\n",
    "import matplotlib.pyplot as plt"
   ]
  },
  {
   "cell_type": "code",
   "execution_count": null,
   "id": "62564768-6258-46e2-bb7c-e11f9d1530d7",
   "metadata": {},
   "outputs": [],
   "source": [
    "from juliacall import Main as jl\n",
    "from juliacall import Pkg"
   ]
  },
  {
   "cell_type": "code",
   "execution_count": null,
   "id": "35812026-2625-415b-9db7-324bd5696639",
   "metadata": {},
   "outputs": [],
   "source": [
    "Pkg.add('ForwardDiff')"
   ]
  },
  {
   "cell_type": "code",
   "execution_count": null,
   "id": "b95d8bc6-b88d-4f75-8e92-807fc33ae3b6",
   "metadata": {},
   "outputs": [],
   "source": [
    "jl.seval(\"using ForwardDiff\")"
   ]
  },
  {
   "cell_type": "code",
   "execution_count": null,
   "id": "bcd464dd-2fd3-4b8e-82ef-12685ec47448",
   "metadata": {},
   "outputs": [],
   "source": [
    "jl.seval('g(x) = x * exp(-x) / (x^2 + 1) * sin(pi * x)')"
   ]
  },
  {
   "cell_type": "code",
   "execution_count": null,
   "id": "55a96846-d159-4cd8-ada6-e5702642fe82",
   "metadata": {},
   "outputs": [],
   "source": [
    "jl.seval('g1(x) = ForwardDiff.derivative(g, x)')"
   ]
  },
  {
   "cell_type": "code",
   "execution_count": null,
   "id": "068fe4f5-703b-4ec8-854d-35a0b863839d",
   "metadata": {},
   "outputs": [],
   "source": [
    "jl.seval('g2(x) = ForwardDiff.derivative(g1, x)')"
   ]
  },
  {
   "cell_type": "code",
   "execution_count": null,
   "id": "fd4eb828-7aa4-450c-a75d-a1eccc42ad95",
   "metadata": {},
   "outputs": [],
   "source": [
    "jl.seval('g3(x) = ForwardDiff.derivative(g2, x)')"
   ]
  },
  {
   "cell_type": "code",
   "execution_count": null,
   "id": "86e2a141-cf89-4965-a31a-1e5051779d68",
   "metadata": {},
   "outputs": [],
   "source": [
    "def taylor(x, a):\n",
    "    return jl.g(a) + \\\n",
    "    jl.g1(a) * (x - a) + \\\n",
    "    jl.g2(a) * (x - a)**2 / 2 + \\\n",
    "    jl.g3(a) * (x - a)**3 / 6"
   ]
  },
  {
   "cell_type": "code",
   "execution_count": null,
   "id": "e95e6090-e2d6-4c19-892f-06fa4b8f3875",
   "metadata": {},
   "outputs": [],
   "source": [
    "domain = np.arange(-2, 2, step=0.05)\n",
    "image = jl.map(jl.g, domain)\n",
    "a = -0.4"
   ]
  },
  {
   "cell_type": "code",
   "execution_count": null,
   "id": "bcb545ad-f016-418e-8801-33e58c5f8f89",
   "metadata": {},
   "outputs": [],
   "source": [
    "plt.figure(figsize=(10,6))\n",
    "plt.plot(domain, image, label='f(x)')\n",
    "plt.scatter([a], [jl.g(a)], color='red', label='a')\n",
    "plt.plot(domain, taylor(domain, a), color='red', label='3rd order Taylor poly around a')\n",
    "plt.ylim(ak.min(image) - 1, ak.max(image) + 1)\n",
    "plt.ylabel('y')\n",
    "plt.xlabel('x');"
   ]
  }
 ],
 "metadata": {
  "kernelspec": {
   "display_name": "Python 3 (ipykernel)",
   "language": "python",
   "name": "python3"
  },
  "language_info": {
   "codemirror_mode": {
    "name": "ipython",
    "version": 3
   },
   "file_extension": ".py",
   "mimetype": "text/x-python",
   "name": "python",
   "nbconvert_exporter": "python",
   "pygments_lexer": "ipython3",
   "version": "3.11.0"
  }
 },
 "nbformat": 4,
 "nbformat_minor": 5
}
